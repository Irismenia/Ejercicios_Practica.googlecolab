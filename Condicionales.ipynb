{
  "nbformat": 4,
  "nbformat_minor": 0,
  "metadata": {
    "colab": {
      "provenance": [],
      "authorship_tag": "ABX9TyMkUTuee1KcxFVIUTf4fpmX",
      "include_colab_link": true
    },
    "kernelspec": {
      "name": "python3",
      "display_name": "Python 3"
    },
    "language_info": {
      "name": "python"
    }
  },
  "cells": [
    {
      "cell_type": "markdown",
      "metadata": {
        "id": "view-in-github",
        "colab_type": "text"
      },
      "source": [
        "<a href=\"https://colab.research.google.com/github/Irismenia/Ejercicios_Practica.googlecolab/blob/main/Condicionales.ipynb\" target=\"_parent\"><img src=\"https://colab.research.google.com/assets/colab-badge.svg\" alt=\"Open In Colab\"/></a>"
      ]
    },
    {
      "cell_type": "markdown",
      "source": [
        "# Haremos estos ejercicios con \n",
        "\n",
        "1.If\n",
        "2.if else\n",
        "3.if elif else \n"
      ],
      "metadata": {
        "id": "-F5Zuqy6qUdn"
      }
    },
    {
      "cell_type": "code",
      "execution_count": null,
      "metadata": {
        "id": "-qCEeMtTqQqL"
      },
      "outputs": [],
      "source": [
        "#programa que pida dos números enteros y que calcule su división, escribiendo si la división es exacta o no.\n",
        "def main():\n",
        "    print(\"DIVISOR DE NÚMEROS\")\n",
        "    dividendo = int(input(\"Escriba el dividendo: \"))\n",
        "    divisor = int(input(\"Escriba el divisor: \"))\n",
        "\n",
        "    if dividendo % divisor == 0:\n",
        "        print(f\"La división es exacta. Cociente: {dividendo // divisor}\")\n",
        "    if dividendo % divisor != 0:\n",
        "        print(\n",
        "            f\"La división no es exacta. Cociente: {dividendo // divisor} \"\n",
        "            f\"Resto: {dividendo % divisor}\"\n",
        "        )\n",
        "\n",
        "\n",
        "if __name__ == \"__main__\":\n",
        "    main()"
      ]
    },
    {
      "cell_type": "code",
      "source": [
        "#Ejercicio 2 Programa que permita realizar un prestamo bancario con if y else\n",
        "ingresos=int(input(\"Ingrese su sueldo: \")) \n",
        "#processing\n",
        "if ingresos>945200:\n",
        "    deudas=int(input(\"¿Tienes deudas? Escriba 0 para no. 1 para si: \"))\n",
        "    if deudas==0:\n",
        "        print(\"Se aprueba el prestamo\")\n",
        "    else:\n",
        "     print(\"No se aprueba el prestamo\")\n",
        "else:\n",
        "    print(\"No se aprueba el prestamo\")"
      ],
      "metadata": {
        "id": "1Mh5j0knsLNV"
      },
      "execution_count": null,
      "outputs": []
    },
    {
      "cell_type": "code",
      "source": [
        "# Calculadora Básica con menú con elif y else \n",
        "#Punto 03\n",
        "\n",
        "from math import log  \n",
        "\n",
        "# input\n",
        "bandera = False \n",
        "x = float(input(\"Dame el valor del número x: \"))\n",
        "y = float(input(\"Dame el valor del número y: \"))\n",
        "\n",
        "print(\"Dame la opción que deseas realizar: \\n\")\n",
        "\n",
        "# Se despliega el me+u para seleccionar la opción que deseas\n",
        "print(\"1. Sumar\")\n",
        "print(\"2. Restar\")\n",
        "print(\"3. Multiplicar\")\n",
        "print(\"4. División\")\n",
        "print(\"5. Potencia\")\n",
        "print(\"6. Logaritmo\")\n",
        "\n",
        "opcion = int(input(\"Dame la opción: \"))\n",
        "\n",
        "# Processing\n",
        "if (opcion == 1):\n",
        "    z = x + y\n",
        "    print( x,\" + \",y)\n",
        "elif (opcion == 2):\n",
        "    z = x - y\n",
        "    print(x, \" - \", y) \n",
        "elif(opcion == 3):\n",
        "    z = x * y\n",
        "    print(x, \" * \",y)\n",
        "elif(opcion == 4 and y != 0):\n",
        "    z = x/y;\n",
        "    print(x,\" / \", y)\n",
        "elif(opcion == 4 and y == 0):\n",
        "    print(\"El denominador es igual a cero y\")\n",
        "    print(\"NO se puede realizar la división\")\n",
        "    bandera = True\n",
        "elif(opcion == 5):\n",
        "    z = pow(x,y)\n",
        "    print(x,\" ^ \", y)\n",
        "elif(opcion == 6 and x > 0):\n",
        "    z = log(x)\n",
        "    print(\"Logaritmo de \", x)\n",
        "elif(opcion == 6 and x <= 0):\n",
        "    print(\"Logaritmo de \", x)\n",
        "    bandera = True\n",
        "else:\n",
        "    print(\"Opcion no valida\")\n",
        " \n",
        " \n",
        "# Se escribe el resultado con otra condición \n",
        "if (opcion < 7 and bandera == False):\n",
        "     print(\"Resultado = \", z)\n",
        "\n",
        "# FIN"
      ],
      "metadata": {
        "id": "mb-1G8XysLam"
      },
      "execution_count": null,
      "outputs": []
    }
  ]
}