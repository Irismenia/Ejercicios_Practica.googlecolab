{
  "nbformat": 4,
  "nbformat_minor": 0,
  "metadata": {
    "colab": {
      "provenance": [],
      "toc_visible": true,
      "authorship_tag": "ABX9TyPo0AbgslE3MDmpmEGTyOwo",
      "include_colab_link": true
    },
    "kernelspec": {
      "name": "python3",
      "display_name": "Python 3"
    },
    "language_info": {
      "name": "python"
    }
  },
  "cells": [
    {
      "cell_type": "markdown",
      "metadata": {
        "id": "view-in-github",
        "colab_type": "text"
      },
      "source": [
        "<a href=\"https://colab.research.google.com/github/Irismenia/Ejercicios_Practica.googlecolab/blob/main/Ejercicios_basicos.ipynb\" target=\"_parent\"><img src=\"https://colab.research.google.com/assets/colab-badge.svg\" alt=\"Open In Colab\"/></a>"
      ]
    },
    {
      "cell_type": "markdown",
      "source": [
        "#Ejercicios Básicos Python\n",
        "\n",
        "1. Suma de dos números\n",
        "2. Potencia de un número \n",
        "\n"
      ],
      "metadata": {
        "id": "U0F2sHTUga4I"
      }
    },
    {
      "cell_type": "code",
      "execution_count": null,
      "metadata": {
        "id": "ngB6WKezSwr0"
      },
      "outputs": [],
      "source": [
        "# Suma de dos números enteros \n",
        "\n",
        "print(\"----------------------------\")\n",
        "print(\"-----SUMA DOS ENTEROS-------\")\n",
        "print(\"----------------------------\")\n",
        "\n",
        "# input\n",
        "x = int(input(\"Digite el valor de x: \"))\n",
        "y = int(input(\"Digite el valor de y: \"))\n",
        "\n",
        "#Processing\n",
        "z = x + y\n",
        "\n",
        "# Output\n",
        "print(\"La suma de\",x,\" + \", y,\" es igual a: \", z)\n"
      ]
    },
    {
      "cell_type": "code",
      "source": [
        "# Potencia de un número\n",
        "\n",
        "print(\"---------------------------------\")\n",
        "print(\"-----POTENCIA DE UN NÚMERO-------\")\n",
        "print(\"---------------------------------\")\n",
        "\n",
        "x = int(input(\"Digite el valor de x: \"))\n",
        "y = int(input(\"Digite el valor de y: \"))\n",
        "\n",
        "#Processing\n",
        "z = x**y\n",
        "\n",
        "#Output\n",
        "print(\"Elevado a la \",x,\" + \", y,\" es igual a: \", z)"
      ],
      "metadata": {
        "id": "LESw46Z6kxbJ"
      },
      "execution_count": null,
      "outputs": []
    }
  ]
}